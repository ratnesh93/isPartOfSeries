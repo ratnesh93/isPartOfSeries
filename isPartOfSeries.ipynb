{
 "cells": [
  {
   "cell_type": "code",
   "execution_count": 39,
   "metadata": {},
   "outputs": [],
   "source": [
    "def func(n):\n",
    "    if n==0:\n",
    "        return 0\n",
    "    elif n==1:\n",
    "        return 1\n",
    "    else:\n",
    "        return 2*func(n-1) - 2*func(n-2)"
   ]
  },
  {
   "cell_type": "code",
   "execution_count": 40,
   "metadata": {},
   "outputs": [],
   "source": [
    "def sum_digits(n):\n",
    "    if n==0:\n",
    "        return 0\n",
    "    else:\n",
    "        return n%10 + sum_digits(n//10)"
   ]
  },
  {
   "cell_type": "code",
   "execution_count": 41,
   "metadata": {},
   "outputs": [],
   "source": [
    "def is_part_of_series(n):\n",
    "    #converting decimal to binary and checking power of 2\n",
    "    if n==0:\n",
    "        return True\n",
    "    elif n==1:\n",
    "        return True\n",
    "    else:\n",
    "        bn=bin(abs(n))\n",
    "        power= len(bn[2:]) - 1\n",
    "        #after printing some of the numbers of series, it is observed that, the elements are power of two, \n",
    "        #so discarding those who are not power of 2\n",
    "        sum_digit = sum_digits(int(bn[2:]))\n",
    "        #if the sum is greater than 1 then number is not power of 2\n",
    "        if sum_digit > 1:\n",
    "            return False\n",
    "        else:\n",
    "            #after analyzing series, it is observed that if 2 has power in mumtiple of 4 or (+1), then number is +ve\n",
    "            #otherwise number is negative\n",
    "            if power%4 == 0 or (power-1)%4==0:\n",
    "                if n > 0:\n",
    "                    return True\n",
    "            else:\n",
    "                if n == 2:\n",
    "                    return True\n",
    "                else:\n",
    "                    if n < 0:\n",
    "                        return True\n",
    "        return False"
   ]
  },
  {
   "cell_type": "code",
   "execution_count": 42,
   "metadata": {},
   "outputs": [
    {
     "name": "stdout",
     "output_type": "stream",
     "text": [
      "number  0  : part of series? True\n",
      "number  1  : part of series? True\n",
      "number  2  : part of series? True\n",
      "number  2  : part of series? True\n",
      "number  0  : part of series? True\n",
      "number  -4  : part of series? True\n",
      "number  -8  : part of series? True\n",
      "number  -8  : part of series? True\n",
      "number  0  : part of series? True\n",
      "number  16  : part of series? True\n",
      "number  32  : part of series? True\n",
      "number  32  : part of series? True\n",
      "number  0  : part of series? True\n",
      "number  -64  : part of series? True\n",
      "number  -128  : part of series? True\n",
      "number  -128  : part of series? True\n",
      "number  0  : part of series? True\n",
      "number  256  : part of series? True\n",
      "number  512  : part of series? True\n",
      "number  512  : part of series? True\n",
      "number  0  : part of series? True\n",
      "number  -1024  : part of series? True\n",
      "number  -2048  : part of series? True\n",
      "number  -2048  : part of series? True\n",
      "number  0  : part of series? True\n",
      "number  4096  : part of series? True\n",
      "number  8192  : part of series? True\n",
      "number  8192  : part of series? True\n",
      "number  0  : part of series? True\n",
      "number  -16384  : part of series? True\n"
     ]
    }
   ],
   "source": [
    "for i in range(30):\n",
    "    a=func(i)\n",
    "    print(\"number \",a,\" : part of series?\",is_part_of_series(a))"
   ]
  },
  {
   "cell_type": "code",
   "execution_count": 43,
   "metadata": {},
   "outputs": [
    {
     "data": {
      "text/plain": [
       "True"
      ]
     },
     "execution_count": 43,
     "metadata": {},
     "output_type": "execute_result"
    }
   ],
   "source": [
    "is_part_of_series(-8)"
   ]
  },
  {
   "cell_type": "code",
   "execution_count": 44,
   "metadata": {},
   "outputs": [
    {
     "data": {
      "text/plain": [
       "False"
      ]
     },
     "execution_count": 44,
     "metadata": {},
     "output_type": "execute_result"
    }
   ],
   "source": [
    "is_part_of_series(-10)"
   ]
  },
  {
   "cell_type": "code",
   "execution_count": 45,
   "metadata": {},
   "outputs": [
    {
     "data": {
      "text/plain": [
       "False"
      ]
     },
     "execution_count": 45,
     "metadata": {},
     "output_type": "execute_result"
    }
   ],
   "source": [
    "is_part_of_series(12)"
   ]
  },
  {
   "cell_type": "code",
   "execution_count": 46,
   "metadata": {},
   "outputs": [
    {
     "data": {
      "text/plain": [
       "False"
      ]
     },
     "execution_count": 46,
     "metadata": {},
     "output_type": "execute_result"
    }
   ],
   "source": [
    "is_part_of_series(100)"
   ]
  },
  {
   "cell_type": "code",
   "execution_count": null,
   "metadata": {},
   "outputs": [],
   "source": []
  }
 ],
 "metadata": {
  "kernelspec": {
   "display_name": "Python 3",
   "language": "python",
   "name": "python3"
  },
  "language_info": {
   "codemirror_mode": {
    "name": "ipython",
    "version": 3
   },
   "file_extension": ".py",
   "mimetype": "text/x-python",
   "name": "python",
   "nbconvert_exporter": "python",
   "pygments_lexer": "ipython3",
   "version": "3.7.4"
  }
 },
 "nbformat": 4,
 "nbformat_minor": 2
}
